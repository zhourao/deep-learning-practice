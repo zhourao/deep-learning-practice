{
 "cells": [
  {
   "cell_type": "markdown",
   "metadata": {},
   "source": [
    "# 一、数据包导入及数据查看"
   ]
  },
  {
   "cell_type": "code",
   "execution_count": 1,
   "metadata": {},
   "outputs": [],
   "source": [
    "import numpy as np\n",
    "import pandas as pd\n",
    "from tensorflow.keras.layers import *\n",
    "import tensorflow.keras.backend as K\n",
    "import matplotlib.pyplot as plt\n",
    "import tensorflow as tf\n",
    "from tensorflow.keras.models import Model\n",
    "from tensorflow.keras.utils import plot_model\n",
    "%matplotlib inline"
   ]
  },
  {
   "cell_type": "code",
   "execution_count": 2,
   "metadata": {},
   "outputs": [
    {
     "data": {
      "text/plain": [
       "(1500000, 17)"
      ]
     },
     "execution_count": 2,
     "metadata": {},
     "output_type": "execute_result"
    }
   ],
   "source": [
    "data = pd.read_csv('./data/random_data.csv')\n",
    "data.shape"
   ]
  },
  {
   "cell_type": "code",
   "execution_count": 3,
   "metadata": {},
   "outputs": [
    {
     "data": {
      "text/html": [
       "<div>\n",
       "<style scoped>\n",
       "    .dataframe tbody tr th:only-of-type {\n",
       "        vertical-align: middle;\n",
       "    }\n",
       "\n",
       "    .dataframe tbody tr th {\n",
       "        vertical-align: top;\n",
       "    }\n",
       "\n",
       "    .dataframe thead th {\n",
       "        text-align: right;\n",
       "    }\n",
       "</style>\n",
       "<table border=\"1\" class=\"dataframe\">\n",
       "  <thead>\n",
       "    <tr style=\"text-align: right;\">\n",
       "      <th></th>\n",
       "      <th>I1</th>\n",
       "      <th>I2</th>\n",
       "      <th>I3</th>\n",
       "      <th>I4</th>\n",
       "      <th>I5</th>\n",
       "      <th>I6</th>\n",
       "      <th>I7</th>\n",
       "      <th>I8</th>\n",
       "      <th>I9</th>\n",
       "      <th>I10</th>\n",
       "      <th>I11</th>\n",
       "      <th>I12</th>\n",
       "      <th>I13</th>\n",
       "      <th>I14</th>\n",
       "      <th>C1</th>\n",
       "      <th>C2</th>\n",
       "      <th>label</th>\n",
       "    </tr>\n",
       "  </thead>\n",
       "  <tbody>\n",
       "    <tr>\n",
       "      <th>0</th>\n",
       "      <td>4110010518477440242</td>\n",
       "      <td>1896312013845627886</td>\n",
       "      <td>6717084795003240529</td>\n",
       "      <td>1080695977093114212</td>\n",
       "      <td>4111614179005464985</td>\n",
       "      <td>8798042721559307282</td>\n",
       "      <td>5895132605950582744</td>\n",
       "      <td>6084180829892317120</td>\n",
       "      <td>7697383445739955609</td>\n",
       "      <td>4884422954281974949</td>\n",
       "      <td>8336763477901001868</td>\n",
       "      <td>6242285785126424193</td>\n",
       "      <td>7900538574498788796</td>\n",
       "      <td>134740763003655426</td>\n",
       "      <td>128.0</td>\n",
       "      <td>2996580352</td>\n",
       "      <td>0</td>\n",
       "    </tr>\n",
       "    <tr>\n",
       "      <th>1</th>\n",
       "      <td>8549798872825571966</td>\n",
       "      <td>1896312013845627886</td>\n",
       "      <td>5931133767701417382</td>\n",
       "      <td>1080695977093114212</td>\n",
       "      <td>6220860133300853649</td>\n",
       "      <td>8798042721559307282</td>\n",
       "      <td>7906599642295772887</td>\n",
       "      <td>8074429082947521887</td>\n",
       "      <td>2016335991759856420</td>\n",
       "      <td>8321822893668424639</td>\n",
       "      <td>6374970459031672275</td>\n",
       "      <td>2638981520939704579</td>\n",
       "      <td>1276775102817461451</td>\n",
       "      <td>7804158046819701007</td>\n",
       "      <td>0.0</td>\n",
       "      <td>3960238080</td>\n",
       "      <td>0</td>\n",
       "    </tr>\n",
       "    <tr>\n",
       "      <th>2</th>\n",
       "      <td>4110010518477440242</td>\n",
       "      <td>1896312013845627886</td>\n",
       "      <td>6738940029233988884</td>\n",
       "      <td>1080695977093114212</td>\n",
       "      <td>4111614179005464985</td>\n",
       "      <td>4661809481046063301</td>\n",
       "      <td>4860738004335111677</td>\n",
       "      <td>9151208213879479282</td>\n",
       "      <td>287166139677673559</td>\n",
       "      <td>3794272402836699782</td>\n",
       "      <td>4828615104526241983</td>\n",
       "      <td>6674460745934457691</td>\n",
       "      <td>1276775102817461451</td>\n",
       "      <td>134740763003655426</td>\n",
       "      <td>102.0</td>\n",
       "      <td>5837828096</td>\n",
       "      <td>1</td>\n",
       "    </tr>\n",
       "    <tr>\n",
       "      <th>3</th>\n",
       "      <td>754307468715170673</td>\n",
       "      <td>1896312013845627886</td>\n",
       "      <td>4744813893973488598</td>\n",
       "      <td>1080695977093114212</td>\n",
       "      <td>4111614179005464985</td>\n",
       "      <td>8798042721559307282</td>\n",
       "      <td>3365621371127355288</td>\n",
       "      <td>8074429082947521887</td>\n",
       "      <td>8049740328582698059</td>\n",
       "      <td>9094510792016618155</td>\n",
       "      <td>1867504036779671592</td>\n",
       "      <td>3042470253253863991</td>\n",
       "      <td>1276775102817461451</td>\n",
       "      <td>134740763003655426</td>\n",
       "      <td>92.0</td>\n",
       "      <td>3950256128</td>\n",
       "      <td>0</td>\n",
       "    </tr>\n",
       "    <tr>\n",
       "      <th>4</th>\n",
       "      <td>2116136986973194273</td>\n",
       "      <td>1896312013845627886</td>\n",
       "      <td>7734665466258756703</td>\n",
       "      <td>1080695977093114212</td>\n",
       "      <td>4417047100345135239</td>\n",
       "      <td>8798042721559307282</td>\n",
       "      <td>5895132605950582744</td>\n",
       "      <td>4821330781467424349</td>\n",
       "      <td>5661661104604751783</td>\n",
       "      <td>3794272402836699782</td>\n",
       "      <td>7803311518978882459</td>\n",
       "      <td>4436990931532908761</td>\n",
       "      <td>1276775102817461451</td>\n",
       "      <td>134740763003655426</td>\n",
       "      <td>46.0</td>\n",
       "      <td>7796359168</td>\n",
       "      <td>0</td>\n",
       "    </tr>\n",
       "  </tbody>\n",
       "</table>\n",
       "</div>"
      ],
      "text/plain": [
       "                    I1                   I2                   I3  \\\n",
       "0  4110010518477440242  1896312013845627886  6717084795003240529   \n",
       "1  8549798872825571966  1896312013845627886  5931133767701417382   \n",
       "2  4110010518477440242  1896312013845627886  6738940029233988884   \n",
       "3   754307468715170673  1896312013845627886  4744813893973488598   \n",
       "4  2116136986973194273  1896312013845627886  7734665466258756703   \n",
       "\n",
       "                    I4                   I5                   I6  \\\n",
       "0  1080695977093114212  4111614179005464985  8798042721559307282   \n",
       "1  1080695977093114212  6220860133300853649  8798042721559307282   \n",
       "2  1080695977093114212  4111614179005464985  4661809481046063301   \n",
       "3  1080695977093114212  4111614179005464985  8798042721559307282   \n",
       "4  1080695977093114212  4417047100345135239  8798042721559307282   \n",
       "\n",
       "                    I7                   I8                   I9  \\\n",
       "0  5895132605950582744  6084180829892317120  7697383445739955609   \n",
       "1  7906599642295772887  8074429082947521887  2016335991759856420   \n",
       "2  4860738004335111677  9151208213879479282   287166139677673559   \n",
       "3  3365621371127355288  8074429082947521887  8049740328582698059   \n",
       "4  5895132605950582744  4821330781467424349  5661661104604751783   \n",
       "\n",
       "                   I10                  I11                  I12  \\\n",
       "0  4884422954281974949  8336763477901001868  6242285785126424193   \n",
       "1  8321822893668424639  6374970459031672275  2638981520939704579   \n",
       "2  3794272402836699782  4828615104526241983  6674460745934457691   \n",
       "3  9094510792016618155  1867504036779671592  3042470253253863991   \n",
       "4  3794272402836699782  7803311518978882459  4436990931532908761   \n",
       "\n",
       "                   I13                  I14     C1          C2  label  \n",
       "0  7900538574498788796   134740763003655426  128.0  2996580352      0  \n",
       "1  1276775102817461451  7804158046819701007    0.0  3960238080      0  \n",
       "2  1276775102817461451   134740763003655426  102.0  5837828096      1  \n",
       "3  1276775102817461451   134740763003655426   92.0  3950256128      0  \n",
       "4  1276775102817461451   134740763003655426   46.0  7796359168      0  "
      ]
     },
     "execution_count": 3,
     "metadata": {},
     "output_type": "execute_result"
    }
   ],
   "source": [
    "data.head()"
   ]
  },
  {
   "cell_type": "code",
   "execution_count": 4,
   "metadata": {},
   "outputs": [],
   "source": [
    "cols = data.columns.values"
   ]
  },
  {
   "cell_type": "markdown",
   "metadata": {},
   "source": [
    "# 二、数据预处理\n",
    "\n",
    "## 2.1 定义特征组"
   ]
  },
  {
   "cell_type": "code",
   "execution_count": 5,
   "metadata": {},
   "outputs": [],
   "source": [
    "dense_feats = [f for f in cols if f[0] == \"I\"]\n",
    "sparse_feats = [f for f in cols if f[0] == \"C\"]"
   ]
  },
  {
   "cell_type": "markdown",
   "metadata": {},
   "source": [
    "## 2.2 处理dense特征"
   ]
  },
  {
   "cell_type": "code",
   "execution_count": 6,
   "metadata": {},
   "outputs": [],
   "source": [
    "def process_dense_feats(data, feats):\n",
    "    d = data.copy()\n",
    "    d = d[feats].fillna(0.0)\n",
    "    for f in feats:\n",
    "        d[f] = d[f].apply(lambda x: np.log(x+1) if x > -1 else -1)\n",
    "    \n",
    "    return d\n",
    "\n",
    "data_dense = process_dense_feats(data, dense_feats)"
   ]
  },
  {
   "cell_type": "markdown",
   "metadata": {},
   "source": [
    "## 2.3 处理sparse特征"
   ]
  },
  {
   "cell_type": "code",
   "execution_count": 7,
   "metadata": {},
   "outputs": [],
   "source": [
    "from sklearn.preprocessing import LabelEncoder"
   ]
  },
  {
   "cell_type": "code",
   "execution_count": 8,
   "metadata": {},
   "outputs": [],
   "source": [
    "def process_sparse_feats(data, feats):\n",
    "    d = data.copy()\n",
    "    d = d[feats].fillna(\"-1\")\n",
    "    for f in feats:\n",
    "        label_encoder = LabelEncoder()\n",
    "        d[f] = label_encoder.fit_transform(d[f])\n",
    "        \n",
    "    return d"
   ]
  },
  {
   "cell_type": "code",
   "execution_count": 9,
   "metadata": {},
   "outputs": [],
   "source": [
    "data_sparse = process_sparse_feats(data, sparse_feats)\n",
    "total_data = pd.concat([data_dense, data_sparse], axis=1)\n",
    "total_data['label'] = data['label']"
   ]
  },
  {
   "cell_type": "markdown",
   "metadata": {},
   "source": [
    "# 三、模型构建与训练\n",
    "## 3.1 一阶特征\n",
    "### 1）dense特征"
   ]
  },
  {
   "cell_type": "code",
   "execution_count": 10,
   "metadata": {},
   "outputs": [],
   "source": [
    "# 构造 dense 特征的输入\n",
    "dense_inputs = []\n",
    "for f in dense_feats:\n",
    "    _input = Input([1], name=f)\n",
    "    dense_inputs.append(_input)\n",
    "# 将输入拼接到一起，方便连接 Dense 层\n",
    "concat_dense_inputs = Concatenate(axis=1)(dense_inputs)  # ?, 13\n",
    "# 然后连上输出为1个单元的全连接层，表示对 dense 变量的加权求和\n",
    "fst_order_dense_layer = Dense(1)(concat_dense_inputs)  # ?, 1"
   ]
  },
  {
   "cell_type": "markdown",
   "metadata": {},
   "source": [
    "### 2）sparse特征"
   ]
  },
  {
   "cell_type": "code",
   "execution_count": 11,
   "metadata": {},
   "outputs": [],
   "source": [
    "# 这里单独对每一个 sparse 特征构造输入，\n",
    "# 目的是方便后面构造二阶组合特征\n",
    "sparse_inputs = []\n",
    "for f in sparse_feats:\n",
    "    _input = Input([1], name=f)\n",
    "    sparse_inputs.append(_input)\n",
    "    \n",
    "sparse_1d_embed = []\n",
    "for i, _input in enumerate(sparse_inputs):\n",
    "    f = sparse_feats[i]\n",
    "    voc_size = total_data[f].nunique()\n",
    "    # 使用 l2 正则化防止过拟合\n",
    "    reg = tf.keras.regularizers.l2(0.5)\n",
    "    _embed = Embedding(voc_size, 1, embeddings_regularizer=reg)(_input)\n",
    "    # 由于 Embedding 的结果是二维的，\n",
    "    # 因此如果需要在 Embedding 之后加入 Dense 层，则需要先连接上 Flatten 层\n",
    "    _embed = Flatten()(_embed)\n",
    "    sparse_1d_embed.append(_embed)\n",
    "# 对每个 embedding lookup 的结果 wi 求和\n",
    "fst_order_sparse_layer = Add()(sparse_1d_embed)"
   ]
  },
  {
   "cell_type": "markdown",
   "metadata": {},
   "source": [
    "### 3）Linear部分合并"
   ]
  },
  {
   "cell_type": "code",
   "execution_count": 12,
   "metadata": {},
   "outputs": [],
   "source": [
    "linear_part = Add()([fst_order_dense_layer, fst_order_sparse_layer])"
   ]
  },
  {
   "cell_type": "markdown",
   "metadata": {},
   "source": [
    "## 3.2 二阶特征"
   ]
  },
  {
   "cell_type": "code",
   "execution_count": 13,
   "metadata": {},
   "outputs": [],
   "source": [
    "# embedding size\n",
    "k = 8\n",
    "\n",
    "# 只考虑sparse的二阶交叉\n",
    "sparse_kd_embed = []\n",
    "for i, _input in enumerate(sparse_inputs):\n",
    "    f = sparse_feats[i]\n",
    "    voc_size = total_data[f].nunique()\n",
    "    reg = tf.keras.regularizers.l2(0.7)\n",
    "    _embed = Embedding(voc_size, k, embeddings_regularizer=reg)(_input)\n",
    "    sparse_kd_embed.append(_embed)"
   ]
  },
  {
   "cell_type": "code",
   "execution_count": 14,
   "metadata": {},
   "outputs": [],
   "source": [
    "# 1.将所有sparse的embedding拼接起来，得到 (n, k)的矩阵，其中n为特征数，k为embedding大小\n",
    "concat_sparse_kd_embed = Concatenate(axis=1)(sparse_kd_embed)  # ?, n, k"
   ]
  },
  {
   "cell_type": "code",
   "execution_count": 15,
   "metadata": {},
   "outputs": [],
   "source": [
    "# 2.先求和再平方\n",
    "sum_kd_embed = Lambda(lambda x: K.sum(x, axis=1))(concat_sparse_kd_embed)  # ?, k\n",
    "square_sum_kd_embed = Multiply()([sum_kd_embed, sum_kd_embed])  # ?, k"
   ]
  },
  {
   "cell_type": "code",
   "execution_count": 16,
   "metadata": {},
   "outputs": [],
   "source": [
    "# 3.先平方再求和\n",
    "square_kd_embed = Multiply()([concat_sparse_kd_embed, concat_sparse_kd_embed]) # ?, n, k\n",
    "sum_square_kd_embed = Lambda(lambda x: K.sum(x, axis=1))(square_kd_embed)  # ?, k"
   ]
  },
  {
   "cell_type": "code",
   "execution_count": 17,
   "metadata": {},
   "outputs": [],
   "source": [
    "# 4.相减除以2\n",
    "sub = Subtract()([square_sum_kd_embed, sum_square_kd_embed])  # ?, k\n",
    "sub = Lambda(lambda x: x*0.5)(sub)  # ?, k\n",
    "snd_order_sparse_layer = Lambda(lambda x: K.sum(x, axis=1, keepdims=True))(sub)  # ?, 1"
   ]
  },
  {
   "cell_type": "markdown",
   "metadata": {},
   "source": [
    "## 3.3 DNN部分"
   ]
  },
  {
   "cell_type": "code",
   "execution_count": 18,
   "metadata": {},
   "outputs": [],
   "source": [
    "flatten_sparse_embed = Flatten()(concat_sparse_kd_embed)  # ?, n*k"
   ]
  },
  {
   "cell_type": "code",
   "execution_count": 19,
   "metadata": {},
   "outputs": [],
   "source": [
    "fc_layer = Dropout(0.5)(Dense(256, activation='relu')(flatten_sparse_embed))  # ?, 256\n",
    "fc_layer = Dropout(0.3)(Dense(256, activation='relu')(fc_layer))  # ?, 256\n",
    "fc_layer = Dropout(0.1)(Dense(256, activation='relu')(fc_layer))  # ?, 256"
   ]
  },
  {
   "cell_type": "code",
   "execution_count": 20,
   "metadata": {},
   "outputs": [],
   "source": [
    "fc_layer_output = Dense(1)(fc_layer)  # ?, 1"
   ]
  },
  {
   "cell_type": "markdown",
   "metadata": {},
   "source": [
    "## 3.4 输出结果"
   ]
  },
  {
   "cell_type": "code",
   "execution_count": 21,
   "metadata": {},
   "outputs": [],
   "source": [
    "output_layer = Add()([linear_part, snd_order_sparse_layer, fc_layer_output])\n",
    "output_layer = Activation(\"sigmoid\")(output_layer)"
   ]
  },
  {
   "cell_type": "markdown",
   "metadata": {},
   "source": [
    "## 3.5 模型编译"
   ]
  },
  {
   "cell_type": "code",
   "execution_count": 22,
   "metadata": {},
   "outputs": [],
   "source": [
    "model = Model(dense_inputs+sparse_inputs, output_layer)"
   ]
  },
  {
   "cell_type": "code",
   "execution_count": 23,
   "metadata": {},
   "outputs": [
    {
     "name": "stdout",
     "output_type": "stream",
     "text": [
      "Model: \"model\"\n",
      "__________________________________________________________________________________________________\n",
      "Layer (type)                    Output Shape         Param #     Connected to                     \n",
      "==================================================================================================\n",
      "C1 (InputLayer)                 [(None, 1)]          0                                            \n",
      "__________________________________________________________________________________________________\n",
      "C2 (InputLayer)                 [(None, 1)]          0                                            \n",
      "__________________________________________________________________________________________________\n",
      "embedding_2 (Embedding)         (None, 1, 8)         30184       C1[0][0]                         \n",
      "__________________________________________________________________________________________________\n",
      "embedding_3 (Embedding)         (None, 1, 8)         169272      C2[0][0]                         \n",
      "__________________________________________________________________________________________________\n",
      "concatenate_1 (Concatenate)     (None, 2, 8)         0           embedding_2[0][0]                \n",
      "                                                                 embedding_3[0][0]                \n",
      "__________________________________________________________________________________________________\n",
      "flatten_2 (Flatten)             (None, 16)           0           concatenate_1[0][0]              \n",
      "__________________________________________________________________________________________________\n",
      "dense_1 (Dense)                 (None, 256)          4352        flatten_2[0][0]                  \n",
      "__________________________________________________________________________________________________\n",
      "dropout (Dropout)               (None, 256)          0           dense_1[0][0]                    \n",
      "__________________________________________________________________________________________________\n",
      "lambda (Lambda)                 (None, 8)            0           concatenate_1[0][0]              \n",
      "__________________________________________________________________________________________________\n",
      "multiply_1 (Multiply)           (None, 2, 8)         0           concatenate_1[0][0]              \n",
      "                                                                 concatenate_1[0][0]              \n",
      "__________________________________________________________________________________________________\n",
      "dense_2 (Dense)                 (None, 256)          65792       dropout[0][0]                    \n",
      "__________________________________________________________________________________________________\n",
      "I1 (InputLayer)                 [(None, 1)]          0                                            \n",
      "__________________________________________________________________________________________________\n",
      "I2 (InputLayer)                 [(None, 1)]          0                                            \n",
      "__________________________________________________________________________________________________\n",
      "I3 (InputLayer)                 [(None, 1)]          0                                            \n",
      "__________________________________________________________________________________________________\n",
      "I4 (InputLayer)                 [(None, 1)]          0                                            \n",
      "__________________________________________________________________________________________________\n",
      "I5 (InputLayer)                 [(None, 1)]          0                                            \n",
      "__________________________________________________________________________________________________\n",
      "I6 (InputLayer)                 [(None, 1)]          0                                            \n",
      "__________________________________________________________________________________________________\n",
      "I7 (InputLayer)                 [(None, 1)]          0                                            \n",
      "__________________________________________________________________________________________________\n",
      "I8 (InputLayer)                 [(None, 1)]          0                                            \n",
      "__________________________________________________________________________________________________\n",
      "I9 (InputLayer)                 [(None, 1)]          0                                            \n",
      "__________________________________________________________________________________________________\n",
      "I10 (InputLayer)                [(None, 1)]          0                                            \n",
      "__________________________________________________________________________________________________\n",
      "I11 (InputLayer)                [(None, 1)]          0                                            \n",
      "__________________________________________________________________________________________________\n",
      "I12 (InputLayer)                [(None, 1)]          0                                            \n",
      "__________________________________________________________________________________________________\n",
      "I13 (InputLayer)                [(None, 1)]          0                                            \n",
      "__________________________________________________________________________________________________\n",
      "I14 (InputLayer)                [(None, 1)]          0                                            \n",
      "__________________________________________________________________________________________________\n",
      "embedding (Embedding)           (None, 1, 1)         3773        C1[0][0]                         \n",
      "__________________________________________________________________________________________________\n",
      "embedding_1 (Embedding)         (None, 1, 1)         21159       C2[0][0]                         \n",
      "__________________________________________________________________________________________________\n",
      "multiply (Multiply)             (None, 8)            0           lambda[0][0]                     \n",
      "                                                                 lambda[0][0]                     \n",
      "__________________________________________________________________________________________________\n",
      "lambda_1 (Lambda)               (None, 8)            0           multiply_1[0][0]                 \n",
      "__________________________________________________________________________________________________\n",
      "dropout_1 (Dropout)             (None, 256)          0           dense_2[0][0]                    \n",
      "__________________________________________________________________________________________________\n",
      "concatenate (Concatenate)       (None, 14)           0           I1[0][0]                         \n",
      "                                                                 I2[0][0]                         \n",
      "                                                                 I3[0][0]                         \n",
      "                                                                 I4[0][0]                         \n",
      "                                                                 I5[0][0]                         \n",
      "                                                                 I6[0][0]                         \n",
      "                                                                 I7[0][0]                         \n",
      "                                                                 I8[0][0]                         \n",
      "                                                                 I9[0][0]                         \n",
      "                                                                 I10[0][0]                        \n",
      "                                                                 I11[0][0]                        \n",
      "                                                                 I12[0][0]                        \n",
      "                                                                 I13[0][0]                        \n",
      "                                                                 I14[0][0]                        \n",
      "__________________________________________________________________________________________________\n",
      "flatten (Flatten)               (None, 1)            0           embedding[0][0]                  \n",
      "__________________________________________________________________________________________________\n",
      "flatten_1 (Flatten)             (None, 1)            0           embedding_1[0][0]                \n",
      "__________________________________________________________________________________________________\n",
      "subtract (Subtract)             (None, 8)            0           multiply[0][0]                   \n",
      "                                                                 lambda_1[0][0]                   \n",
      "__________________________________________________________________________________________________\n",
      "dense_3 (Dense)                 (None, 256)          65792       dropout_1[0][0]                  \n",
      "__________________________________________________________________________________________________\n",
      "dense (Dense)                   (None, 1)            15          concatenate[0][0]                \n",
      "__________________________________________________________________________________________________\n",
      "add (Add)                       (None, 1)            0           flatten[0][0]                    \n",
      "                                                                 flatten_1[0][0]                  \n",
      "__________________________________________________________________________________________________\n",
      "lambda_2 (Lambda)               (None, 8)            0           subtract[0][0]                   \n",
      "__________________________________________________________________________________________________\n",
      "dropout_2 (Dropout)             (None, 256)          0           dense_3[0][0]                    \n",
      "__________________________________________________________________________________________________\n",
      "add_1 (Add)                     (None, 1)            0           dense[0][0]                      \n",
      "                                                                 add[0][0]                        \n",
      "__________________________________________________________________________________________________\n",
      "lambda_3 (Lambda)               (None, 1)            0           lambda_2[0][0]                   \n",
      "__________________________________________________________________________________________________\n",
      "dense_4 (Dense)                 (None, 1)            257         dropout_2[0][0]                  \n",
      "__________________________________________________________________________________________________\n",
      "add_2 (Add)                     (None, 1)            0           add_1[0][0]                      \n",
      "                                                                 lambda_3[0][0]                   \n",
      "                                                                 dense_4[0][0]                    \n",
      "__________________________________________________________________________________________________\n",
      "activation (Activation)         (None, 1)            0           add_2[0][0]                      \n",
      "==================================================================================================\n",
      "Total params: 360,596\n",
      "Trainable params: 360,596\n",
      "Non-trainable params: 0\n",
      "__________________________________________________________________________________________________\n"
     ]
    }
   ],
   "source": [
    "model.summary()"
   ]
  },
  {
   "cell_type": "code",
   "execution_count": 24,
   "metadata": {},
   "outputs": [],
   "source": [
    "model.compile(optimizer=\"adam\", \n",
    "              loss=\"binary_crossentropy\", \n",
    "              metrics=[\"binary_crossentropy\", tf.keras.metrics.AUC(name='auc')])"
   ]
  },
  {
   "cell_type": "markdown",
   "metadata": {},
   "source": [
    "## 3.6 模型训练"
   ]
  },
  {
   "cell_type": "code",
   "execution_count": 25,
   "metadata": {},
   "outputs": [],
   "source": [
    "train_data = total_data.loc[:1200000-1]\n",
    "valid_data = total_data.loc[1200000:]"
   ]
  },
  {
   "cell_type": "code",
   "execution_count": 26,
   "metadata": {},
   "outputs": [],
   "source": [
    "train_dense_x = [train_data[f].values for f in dense_feats]\n",
    "train_sparse_x = [train_data[f].values for f in sparse_feats]"
   ]
  },
  {
   "cell_type": "code",
   "execution_count": 27,
   "metadata": {},
   "outputs": [],
   "source": [
    "train_label = [train_data['label'].values]"
   ]
  },
  {
   "cell_type": "code",
   "execution_count": 28,
   "metadata": {},
   "outputs": [],
   "source": [
    "val_dense_x = [valid_data[f].values for f in dense_feats]\n",
    "val_sparse_x = [valid_data[f].values for f in sparse_feats]"
   ]
  },
  {
   "cell_type": "code",
   "execution_count": 29,
   "metadata": {},
   "outputs": [],
   "source": [
    "val_label = [valid_data['label'].values]"
   ]
  },
  {
   "cell_type": "code",
   "execution_count": 30,
   "metadata": {},
   "outputs": [
    {
     "name": "stdout",
     "output_type": "stream",
     "text": [
      "Epoch 1/5\n",
      "4688/4688 [==============================] - 36s 7ms/step - loss: 0.6578 - binary_crossentropy: 0.2217 - auc: 0.9290 - val_loss: 0.1383 - val_binary_crossentropy: 0.1004 - val_auc: 0.9536\n",
      "Epoch 2/5\n",
      "4688/4688 [==============================] - 36s 8ms/step - loss: 0.1463 - binary_crossentropy: 0.1016 - auc: 0.9565 - val_loss: 0.1368 - val_binary_crossentropy: 0.0872 - val_auc: 0.9707\n",
      "Epoch 3/5\n",
      "4688/4688 [==============================] - 38s 8ms/step - loss: 0.1469 - binary_crossentropy: 0.0979 - auc: 0.9641 - val_loss: 0.1431 - val_binary_crossentropy: 0.0891 - val_auc: 0.9711\n",
      "Epoch 4/5\n",
      "4688/4688 [==============================] - 42s 9ms/step - loss: 0.1557 - binary_crossentropy: 0.0971 - auc: 0.9663 - val_loss: 0.1603 - val_binary_crossentropy: 0.0864 - val_auc: 0.9729\n",
      "Epoch 5/5\n",
      "4688/4688 [==============================] - 38s 8ms/step - loss: 0.1720 - binary_crossentropy: 0.0953 - auc: 0.9684 - val_loss: 0.1578 - val_binary_crossentropy: 0.0852 - val_auc: 0.9746\n"
     ]
    },
    {
     "data": {
      "text/plain": [
       "<tensorflow.python.keras.callbacks.History at 0x242912c20d0>"
      ]
     },
     "execution_count": 30,
     "metadata": {},
     "output_type": "execute_result"
    }
   ],
   "source": [
    "model.fit(train_dense_x + train_sparse_x, \n",
    "          train_label, epochs=5, batch_size=256,\n",
    "          validation_data=(val_dense_x + val_sparse_x, val_label),\n",
    "         )"
   ]
  }
 ],
 "metadata": {
  "kernelspec": {
   "display_name": "Python 3",
   "language": "python",
   "name": "python3"
  },
  "language_info": {
   "codemirror_mode": {
    "name": "ipython",
    "version": 3
   },
   "file_extension": ".py",
   "mimetype": "text/x-python",
   "name": "python",
   "nbconvert_exporter": "python",
   "pygments_lexer": "ipython3",
   "version": "3.8.8"
  }
 },
 "nbformat": 4,
 "nbformat_minor": 4
}
